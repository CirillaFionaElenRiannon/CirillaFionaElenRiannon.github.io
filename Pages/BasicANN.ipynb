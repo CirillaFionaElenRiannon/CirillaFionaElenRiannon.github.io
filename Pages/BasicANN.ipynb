{
  "nbformat": 4,
  "nbformat_minor": 0,
  "metadata": {
    "colab": {
      "name": "BasicANN.ipynb",
      "provenance": [],
      "authorship_tag": "ABX9TyPdGbeKEtD9ZBreXKMp3SWQ",
      "include_colab_link": true
    },
    "kernelspec": {
      "name": "python3",
      "display_name": "Python 3"
    }
  },
  "cells": [
    {
      "cell_type": "markdown",
      "metadata": {
        "id": "view-in-github",
        "colab_type": "text"
      },
      "source": [
        "<a href=\"https://colab.research.google.com/github/DavidMichaelH/DavidMichaelH.github.io/blob/master/BasicANN.ipynb\" target=\"_parent\"><img src=\"https://colab.research.google.com/assets/colab-badge.svg\" alt=\"Open In Colab\"/></a>"
      ]
    },
    {
      "cell_type": "code",
      "metadata": {
        "id": "MiyzIyK2VKAS",
        "outputId": "281b813b-73c8-4f3b-be80-f4f9ac6bdeb4",
        "colab": {
          "base_uri": "https://localhost:8080/"
        }
      },
      "source": [
        "!pip install tensorflow"
      ],
      "execution_count": 26,
      "outputs": [
        {
          "output_type": "stream",
          "text": [
            "Requirement already satisfied: tensorflow in /usr/local/lib/python3.6/dist-packages (2.3.0)\n",
            "Requirement already satisfied: protobuf>=3.9.2 in /usr/local/lib/python3.6/dist-packages (from tensorflow) (3.12.4)\n",
            "Requirement already satisfied: tensorboard<3,>=2.3.0 in /usr/local/lib/python3.6/dist-packages (from tensorflow) (2.3.0)\n",
            "Requirement already satisfied: h5py<2.11.0,>=2.10.0 in /usr/local/lib/python3.6/dist-packages (from tensorflow) (2.10.0)\n",
            "Requirement already satisfied: wheel>=0.26 in /usr/local/lib/python3.6/dist-packages (from tensorflow) (0.35.1)\n",
            "Requirement already satisfied: wrapt>=1.11.1 in /usr/local/lib/python3.6/dist-packages (from tensorflow) (1.12.1)\n",
            "Requirement already satisfied: gast==0.3.3 in /usr/local/lib/python3.6/dist-packages (from tensorflow) (0.3.3)\n",
            "Requirement already satisfied: termcolor>=1.1.0 in /usr/local/lib/python3.6/dist-packages (from tensorflow) (1.1.0)\n",
            "Requirement already satisfied: grpcio>=1.8.6 in /usr/local/lib/python3.6/dist-packages (from tensorflow) (1.33.2)\n",
            "Requirement already satisfied: absl-py>=0.7.0 in /usr/local/lib/python3.6/dist-packages (from tensorflow) (0.10.0)\n",
            "Requirement already satisfied: astunparse==1.6.3 in /usr/local/lib/python3.6/dist-packages (from tensorflow) (1.6.3)\n",
            "Requirement already satisfied: numpy<1.19.0,>=1.16.0 in /usr/local/lib/python3.6/dist-packages (from tensorflow) (1.18.5)\n",
            "Requirement already satisfied: opt-einsum>=2.3.2 in /usr/local/lib/python3.6/dist-packages (from tensorflow) (3.3.0)\n",
            "Requirement already satisfied: tensorflow-estimator<2.4.0,>=2.3.0 in /usr/local/lib/python3.6/dist-packages (from tensorflow) (2.3.0)\n",
            "Requirement already satisfied: keras-preprocessing<1.2,>=1.1.1 in /usr/local/lib/python3.6/dist-packages (from tensorflow) (1.1.2)\n",
            "Requirement already satisfied: google-pasta>=0.1.8 in /usr/local/lib/python3.6/dist-packages (from tensorflow) (0.2.0)\n",
            "Requirement already satisfied: six>=1.12.0 in /usr/local/lib/python3.6/dist-packages (from tensorflow) (1.15.0)\n",
            "Requirement already satisfied: scipy==1.4.1 in /usr/local/lib/python3.6/dist-packages (from tensorflow) (1.4.1)\n",
            "Requirement already satisfied: setuptools in /usr/local/lib/python3.6/dist-packages (from protobuf>=3.9.2->tensorflow) (50.3.2)\n",
            "Requirement already satisfied: google-auth-oauthlib<0.5,>=0.4.1 in /usr/local/lib/python3.6/dist-packages (from tensorboard<3,>=2.3.0->tensorflow) (0.4.2)\n",
            "Requirement already satisfied: requests<3,>=2.21.0 in /usr/local/lib/python3.6/dist-packages (from tensorboard<3,>=2.3.0->tensorflow) (2.23.0)\n",
            "Requirement already satisfied: google-auth<2,>=1.6.3 in /usr/local/lib/python3.6/dist-packages (from tensorboard<3,>=2.3.0->tensorflow) (1.17.2)\n",
            "Requirement already satisfied: markdown>=2.6.8 in /usr/local/lib/python3.6/dist-packages (from tensorboard<3,>=2.3.0->tensorflow) (3.3.3)\n",
            "Requirement already satisfied: werkzeug>=0.11.15 in /usr/local/lib/python3.6/dist-packages (from tensorboard<3,>=2.3.0->tensorflow) (1.0.1)\n",
            "Requirement already satisfied: tensorboard-plugin-wit>=1.6.0 in /usr/local/lib/python3.6/dist-packages (from tensorboard<3,>=2.3.0->tensorflow) (1.7.0)\n",
            "Requirement already satisfied: requests-oauthlib>=0.7.0 in /usr/local/lib/python3.6/dist-packages (from google-auth-oauthlib<0.5,>=0.4.1->tensorboard<3,>=2.3.0->tensorflow) (1.3.0)\n",
            "Requirement already satisfied: chardet<4,>=3.0.2 in /usr/local/lib/python3.6/dist-packages (from requests<3,>=2.21.0->tensorboard<3,>=2.3.0->tensorflow) (3.0.4)\n",
            "Requirement already satisfied: certifi>=2017.4.17 in /usr/local/lib/python3.6/dist-packages (from requests<3,>=2.21.0->tensorboard<3,>=2.3.0->tensorflow) (2020.6.20)\n",
            "Requirement already satisfied: idna<3,>=2.5 in /usr/local/lib/python3.6/dist-packages (from requests<3,>=2.21.0->tensorboard<3,>=2.3.0->tensorflow) (2.10)\n",
            "Requirement already satisfied: urllib3!=1.25.0,!=1.25.1,<1.26,>=1.21.1 in /usr/local/lib/python3.6/dist-packages (from requests<3,>=2.21.0->tensorboard<3,>=2.3.0->tensorflow) (1.24.3)\n",
            "Requirement already satisfied: pyasn1-modules>=0.2.1 in /usr/local/lib/python3.6/dist-packages (from google-auth<2,>=1.6.3->tensorboard<3,>=2.3.0->tensorflow) (0.2.8)\n",
            "Requirement already satisfied: rsa<5,>=3.1.4; python_version >= \"3\" in /usr/local/lib/python3.6/dist-packages (from google-auth<2,>=1.6.3->tensorboard<3,>=2.3.0->tensorflow) (4.6)\n",
            "Requirement already satisfied: cachetools<5.0,>=2.0.0 in /usr/local/lib/python3.6/dist-packages (from google-auth<2,>=1.6.3->tensorboard<3,>=2.3.0->tensorflow) (4.1.1)\n",
            "Requirement already satisfied: importlib-metadata; python_version < \"3.8\" in /usr/local/lib/python3.6/dist-packages (from markdown>=2.6.8->tensorboard<3,>=2.3.0->tensorflow) (2.0.0)\n",
            "Requirement already satisfied: oauthlib>=3.0.0 in /usr/local/lib/python3.6/dist-packages (from requests-oauthlib>=0.7.0->google-auth-oauthlib<0.5,>=0.4.1->tensorboard<3,>=2.3.0->tensorflow) (3.1.0)\n",
            "Requirement already satisfied: pyasn1<0.5.0,>=0.4.6 in /usr/local/lib/python3.6/dist-packages (from pyasn1-modules>=0.2.1->google-auth<2,>=1.6.3->tensorboard<3,>=2.3.0->tensorflow) (0.4.8)\n",
            "Requirement already satisfied: zipp>=0.5 in /usr/local/lib/python3.6/dist-packages (from importlib-metadata; python_version < \"3.8\"->markdown>=2.6.8->tensorboard<3,>=2.3.0->tensorflow) (3.4.0)\n"
          ],
          "name": "stdout"
        }
      ]
    },
    {
      "cell_type": "markdown",
      "metadata": {
        "id": "Y4VaIt4PvvjR"
      },
      "source": [
        "# **Import Libraries**"
      ]
    },
    {
      "cell_type": "code",
      "metadata": {
        "id": "HBdOJy-vVPhB"
      },
      "source": [
        "import numpy as np\n",
        "import pandas as pd\n",
        "import tensorflow as tf"
      ],
      "execution_count": 27,
      "outputs": []
    },
    {
      "cell_type": "markdown",
      "metadata": {
        "id": "4E2yU5lav32z"
      },
      "source": [
        "# **Import Dataset**"
      ]
    },
    {
      "cell_type": "code",
      "metadata": {
        "id": "rDHqixYHtrX5",
        "outputId": "c7d5c29c-38b1-4173-9c6f-5947d74330a4",
        "colab": {
          "base_uri": "https://localhost:8080/"
        }
      },
      "source": [
        "link = 'https://drive.google.com/file/d/1xD2jpYhFI9xuj6RwzlfrHbfeap_jVsUK/view?usp=sharing'\n",
        "\n",
        "# to get the id part of the file \n",
        "id = link.split(\"/\")[-2] \n",
        "\n",
        "dataset = pd.read_csv('FakeData.csv') \n",
        "print(dataset)"
      ],
      "execution_count": 28,
      "outputs": [
        {
          "output_type": "stream",
          "text": [
            "      6  3   4  0\n",
            "0     3  3   9  1\n",
            "1     5  7   6  1\n",
            "2    10  4   4  1\n",
            "3     8  9   1  0\n",
            "4     9  9   6  1\n",
            "..   .. ..  .. ..\n",
            "494   3  3   2  0\n",
            "495   7  7  10  1\n",
            "496  10  9   7  1\n",
            "497   9  6   5  1\n",
            "498   3  8   6  1\n",
            "\n",
            "[499 rows x 4 columns]\n"
          ],
          "name": "stdout"
        }
      ]
    },
    {
      "cell_type": "markdown",
      "metadata": {
        "id": "SaSCKCZ6v6UT"
      },
      "source": [
        "# **Data Preprocessing**"
      ]
    },
    {
      "cell_type": "code",
      "metadata": {
        "id": "Y2QfjaFcuW_t"
      },
      "source": [
        "X = dataset.iloc[:,:-1].values;\n",
        "y = dataset.iloc[:,-1].values;"
      ],
      "execution_count": 29,
      "outputs": []
    },
    {
      "cell_type": "markdown",
      "metadata": {
        "id": "ZVhrcBMZx1G6"
      },
      "source": [
        "# **Divide dataset into training set and test set**"
      ]
    },
    {
      "cell_type": "code",
      "metadata": {
        "id": "9feY2Wylx-lv"
      },
      "source": [
        "from sklearn.model_selection import train_test_split\n",
        "X_train, X_test , y_train, y_test = train_test_split(X,y,test_size = 0.2, random_state = 0)"
      ],
      "execution_count": 30,
      "outputs": []
    },
    {
      "cell_type": "markdown",
      "metadata": {
        "id": "ETD1WdXzzPgl"
      },
      "source": [
        "# **Preform Feature Scaling**"
      ]
    },
    {
      "cell_type": "code",
      "metadata": {
        "id": "InT3PxLIzT4V"
      },
      "source": [
        "from sklearn.preprocessing import StandardScaler\n",
        "sc = StandardScaler();\n",
        "X_train = sc.fit_transform(X_train);\n",
        "X_test = sc.fit_transform(X_test);"
      ],
      "execution_count": 31,
      "outputs": []
    },
    {
      "cell_type": "markdown",
      "metadata": {
        "id": "c7mM4jqw0UpB"
      },
      "source": [
        "# **Construct the ANN**"
      ]
    },
    {
      "cell_type": "markdown",
      "metadata": {
        "id": "hYDDn9zl1NYt"
      },
      "source": [
        "Initialize the ANN"
      ]
    },
    {
      "cell_type": "code",
      "metadata": {
        "id": "R_yOIeHY0br7"
      },
      "source": [
        "ann = tf.keras.models.Sequential() #Initialize the ANN as a sequence of layers"
      ],
      "execution_count": 32,
      "outputs": []
    },
    {
      "cell_type": "markdown",
      "metadata": {
        "id": "L0nWFszU1Prh"
      },
      "source": [
        "Add the input layer and the first hidden layer"
      ]
    },
    {
      "cell_type": "code",
      "metadata": {
        "id": "M_7lrC5H1TDJ"
      },
      "source": [
        "ann.add(tf.keras.layers.Dense(units=6,activation='relu')) #6 neurons in the first (fully connected) hidden layer, relu activation function"
      ],
      "execution_count": 33,
      "outputs": []
    },
    {
      "cell_type": "markdown",
      "metadata": {
        "id": "kknQrpjj2iZA"
      },
      "source": [
        "Add the second hidden layer"
      ]
    },
    {
      "cell_type": "code",
      "metadata": {
        "id": "ToDvacae2lKW"
      },
      "source": [
        "ann.add(tf.keras.layers.Dense(units=6,activation='relu')) #6 neurons in the second (fully connected) hidden layer, relu activation function"
      ],
      "execution_count": 34,
      "outputs": []
    },
    {
      "cell_type": "markdown",
      "metadata": {
        "id": "Cpy01jLC2zAP"
      },
      "source": [
        "Adding the output layer"
      ]
    },
    {
      "cell_type": "code",
      "metadata": {
        "id": "O0U7obKw21Ml"
      },
      "source": [
        "ann.add(tf.keras.layers.Dense(units=1,activation='sigmoid')) #1 neuron in the output layer, sigmoid activation function"
      ],
      "execution_count": 35,
      "outputs": []
    },
    {
      "cell_type": "markdown",
      "metadata": {
        "id": "BX_LCsEN35RU"
      },
      "source": [
        "# **Train the ANN**"
      ]
    },
    {
      "cell_type": "markdown",
      "metadata": {
        "id": "7j_yBjU73733"
      },
      "source": [
        "Compiling the ANN"
      ]
    },
    {
      "cell_type": "code",
      "metadata": {
        "id": "QUsJC0cb3-Pq"
      },
      "source": [
        "ann.compile(optimizer='adam',loss='binary_crossentropy',metrics= ['accuracy']) #adam optimizer can perfrom SDS"
      ],
      "execution_count": 36,
      "outputs": []
    },
    {
      "cell_type": "markdown",
      "metadata": {
        "id": "P4z5hHTu5DDw"
      },
      "source": [
        "Training the ANN on Training set"
      ]
    },
    {
      "cell_type": "code",
      "metadata": {
        "id": "S_r-twEq5Hx4",
        "outputId": "5c553f59-d94d-476d-8038-55ab5fcb5fb9",
        "colab": {
          "base_uri": "https://localhost:8080/"
        }
      },
      "source": [
        "ann.fit(X_train,y_train, batch_size=32, epochs= 100 )"
      ],
      "execution_count": 38,
      "outputs": [
        {
          "output_type": "stream",
          "text": [
            "Epoch 1/100\n",
            "13/13 [==============================] - 0s 1ms/step - loss: 0.7274 - accuracy: 0.4211\n",
            "Epoch 2/100\n",
            "13/13 [==============================] - 0s 1ms/step - loss: 0.6996 - accuracy: 0.4837\n",
            "Epoch 3/100\n",
            "13/13 [==============================] - 0s 1ms/step - loss: 0.6763 - accuracy: 0.5539\n",
            "Epoch 4/100\n",
            "13/13 [==============================] - 0s 1ms/step - loss: 0.6566 - accuracy: 0.5965\n",
            "Epoch 5/100\n",
            "13/13 [==============================] - 0s 1ms/step - loss: 0.6384 - accuracy: 0.6466\n",
            "Epoch 6/100\n",
            "13/13 [==============================] - 0s 1ms/step - loss: 0.6216 - accuracy: 0.6867\n",
            "Epoch 7/100\n",
            "13/13 [==============================] - 0s 1ms/step - loss: 0.6058 - accuracy: 0.7193\n",
            "Epoch 8/100\n",
            "13/13 [==============================] - 0s 1ms/step - loss: 0.5896 - accuracy: 0.7293\n",
            "Epoch 9/100\n",
            "13/13 [==============================] - 0s 1ms/step - loss: 0.5735 - accuracy: 0.7368\n",
            "Epoch 10/100\n",
            "13/13 [==============================] - 0s 1ms/step - loss: 0.5579 - accuracy: 0.7469\n",
            "Epoch 11/100\n",
            "13/13 [==============================] - 0s 1ms/step - loss: 0.5418 - accuracy: 0.7469\n",
            "Epoch 12/100\n",
            "13/13 [==============================] - 0s 1ms/step - loss: 0.5261 - accuracy: 0.7544\n",
            "Epoch 13/100\n",
            "13/13 [==============================] - 0s 1ms/step - loss: 0.5106 - accuracy: 0.7619\n",
            "Epoch 14/100\n",
            "13/13 [==============================] - 0s 1ms/step - loss: 0.4954 - accuracy: 0.7744\n",
            "Epoch 15/100\n",
            "13/13 [==============================] - 0s 1ms/step - loss: 0.4803 - accuracy: 0.7845\n",
            "Epoch 16/100\n",
            "13/13 [==============================] - 0s 1ms/step - loss: 0.4656 - accuracy: 0.7920\n",
            "Epoch 17/100\n",
            "13/13 [==============================] - 0s 1ms/step - loss: 0.4503 - accuracy: 0.7945\n",
            "Epoch 18/100\n",
            "13/13 [==============================] - 0s 1ms/step - loss: 0.4356 - accuracy: 0.7995\n",
            "Epoch 19/100\n",
            "13/13 [==============================] - 0s 1ms/step - loss: 0.4204 - accuracy: 0.8095\n",
            "Epoch 20/100\n",
            "13/13 [==============================] - 0s 1ms/step - loss: 0.4061 - accuracy: 0.8246\n",
            "Epoch 21/100\n",
            "13/13 [==============================] - 0s 2ms/step - loss: 0.3917 - accuracy: 0.8321\n",
            "Epoch 22/100\n",
            "13/13 [==============================] - 0s 1ms/step - loss: 0.3786 - accuracy: 0.8321\n",
            "Epoch 23/100\n",
            "13/13 [==============================] - 0s 1ms/step - loss: 0.3648 - accuracy: 0.8471\n",
            "Epoch 24/100\n",
            "13/13 [==============================] - 0s 1ms/step - loss: 0.3518 - accuracy: 0.8546\n",
            "Epoch 25/100\n",
            "13/13 [==============================] - 0s 1ms/step - loss: 0.3384 - accuracy: 0.8647\n",
            "Epoch 26/100\n",
            "13/13 [==============================] - 0s 2ms/step - loss: 0.3257 - accuracy: 0.8697\n",
            "Epoch 27/100\n",
            "13/13 [==============================] - 0s 1ms/step - loss: 0.3131 - accuracy: 0.8822\n",
            "Epoch 28/100\n",
            "13/13 [==============================] - 0s 2ms/step - loss: 0.3013 - accuracy: 0.8822\n",
            "Epoch 29/100\n",
            "13/13 [==============================] - 0s 1ms/step - loss: 0.2904 - accuracy: 0.8897\n",
            "Epoch 30/100\n",
            "13/13 [==============================] - 0s 1ms/step - loss: 0.2796 - accuracy: 0.8897\n",
            "Epoch 31/100\n",
            "13/13 [==============================] - 0s 2ms/step - loss: 0.2693 - accuracy: 0.9023\n",
            "Epoch 32/100\n",
            "13/13 [==============================] - 0s 1ms/step - loss: 0.2605 - accuracy: 0.9048\n",
            "Epoch 33/100\n",
            "13/13 [==============================] - 0s 1ms/step - loss: 0.2514 - accuracy: 0.9098\n",
            "Epoch 34/100\n",
            "13/13 [==============================] - 0s 1ms/step - loss: 0.2430 - accuracy: 0.9123\n",
            "Epoch 35/100\n",
            "13/13 [==============================] - 0s 1ms/step - loss: 0.2357 - accuracy: 0.9198\n",
            "Epoch 36/100\n",
            "13/13 [==============================] - 0s 1ms/step - loss: 0.2290 - accuracy: 0.9223\n",
            "Epoch 37/100\n",
            "13/13 [==============================] - 0s 1ms/step - loss: 0.2232 - accuracy: 0.9173\n",
            "Epoch 38/100\n",
            "13/13 [==============================] - 0s 1ms/step - loss: 0.2174 - accuracy: 0.9123\n",
            "Epoch 39/100\n",
            "13/13 [==============================] - 0s 1ms/step - loss: 0.2122 - accuracy: 0.9123\n",
            "Epoch 40/100\n",
            "13/13 [==============================] - 0s 1ms/step - loss: 0.2079 - accuracy: 0.9148\n",
            "Epoch 41/100\n",
            "13/13 [==============================] - 0s 1ms/step - loss: 0.2033 - accuracy: 0.9148\n",
            "Epoch 42/100\n",
            "13/13 [==============================] - 0s 1ms/step - loss: 0.1990 - accuracy: 0.9173\n",
            "Epoch 43/100\n",
            "13/13 [==============================] - 0s 2ms/step - loss: 0.1955 - accuracy: 0.9223\n",
            "Epoch 44/100\n",
            "13/13 [==============================] - 0s 1ms/step - loss: 0.1916 - accuracy: 0.9223\n",
            "Epoch 45/100\n",
            "13/13 [==============================] - 0s 1ms/step - loss: 0.1885 - accuracy: 0.9198\n",
            "Epoch 46/100\n",
            "13/13 [==============================] - 0s 1ms/step - loss: 0.1853 - accuracy: 0.9223\n",
            "Epoch 47/100\n",
            "13/13 [==============================] - 0s 1ms/step - loss: 0.1829 - accuracy: 0.9248\n",
            "Epoch 48/100\n",
            "13/13 [==============================] - 0s 2ms/step - loss: 0.1801 - accuracy: 0.9223\n",
            "Epoch 49/100\n",
            "13/13 [==============================] - 0s 2ms/step - loss: 0.1779 - accuracy: 0.9248\n",
            "Epoch 50/100\n",
            "13/13 [==============================] - 0s 1ms/step - loss: 0.1755 - accuracy: 0.9248\n",
            "Epoch 51/100\n",
            "13/13 [==============================] - 0s 1ms/step - loss: 0.1736 - accuracy: 0.9223\n",
            "Epoch 52/100\n",
            "13/13 [==============================] - 0s 1ms/step - loss: 0.1709 - accuracy: 0.9273\n",
            "Epoch 53/100\n",
            "13/13 [==============================] - 0s 1ms/step - loss: 0.1689 - accuracy: 0.9248\n",
            "Epoch 54/100\n",
            "13/13 [==============================] - 0s 1ms/step - loss: 0.1673 - accuracy: 0.9248\n",
            "Epoch 55/100\n",
            "13/13 [==============================] - 0s 1ms/step - loss: 0.1652 - accuracy: 0.9273\n",
            "Epoch 56/100\n",
            "13/13 [==============================] - 0s 1ms/step - loss: 0.1634 - accuracy: 0.9248\n",
            "Epoch 57/100\n",
            "13/13 [==============================] - 0s 1ms/step - loss: 0.1617 - accuracy: 0.9248\n",
            "Epoch 58/100\n",
            "13/13 [==============================] - 0s 1ms/step - loss: 0.1603 - accuracy: 0.9323\n",
            "Epoch 59/100\n",
            "13/13 [==============================] - 0s 1ms/step - loss: 0.1583 - accuracy: 0.9298\n",
            "Epoch 60/100\n",
            "13/13 [==============================] - 0s 1ms/step - loss: 0.1567 - accuracy: 0.9298\n",
            "Epoch 61/100\n",
            "13/13 [==============================] - 0s 1ms/step - loss: 0.1550 - accuracy: 0.9298\n",
            "Epoch 62/100\n",
            "13/13 [==============================] - 0s 1ms/step - loss: 0.1542 - accuracy: 0.9323\n",
            "Epoch 63/100\n",
            "13/13 [==============================] - 0s 1ms/step - loss: 0.1522 - accuracy: 0.9348\n",
            "Epoch 64/100\n",
            "13/13 [==============================] - 0s 1ms/step - loss: 0.1513 - accuracy: 0.9398\n",
            "Epoch 65/100\n",
            "13/13 [==============================] - 0s 1ms/step - loss: 0.1497 - accuracy: 0.9398\n",
            "Epoch 66/100\n",
            "13/13 [==============================] - 0s 1ms/step - loss: 0.1480 - accuracy: 0.9424\n",
            "Epoch 67/100\n",
            "13/13 [==============================] - 0s 1ms/step - loss: 0.1468 - accuracy: 0.9424\n",
            "Epoch 68/100\n",
            "13/13 [==============================] - 0s 1ms/step - loss: 0.1454 - accuracy: 0.9424\n",
            "Epoch 69/100\n",
            "13/13 [==============================] - 0s 1ms/step - loss: 0.1442 - accuracy: 0.9449\n",
            "Epoch 70/100\n",
            "13/13 [==============================] - 0s 1ms/step - loss: 0.1431 - accuracy: 0.9449\n",
            "Epoch 71/100\n",
            "13/13 [==============================] - 0s 1ms/step - loss: 0.1417 - accuracy: 0.9449\n",
            "Epoch 72/100\n",
            "13/13 [==============================] - 0s 1ms/step - loss: 0.1407 - accuracy: 0.9449\n",
            "Epoch 73/100\n",
            "13/13 [==============================] - 0s 1ms/step - loss: 0.1398 - accuracy: 0.9424\n",
            "Epoch 74/100\n",
            "13/13 [==============================] - 0s 1ms/step - loss: 0.1384 - accuracy: 0.9424\n",
            "Epoch 75/100\n",
            "13/13 [==============================] - 0s 1ms/step - loss: 0.1373 - accuracy: 0.9524\n",
            "Epoch 76/100\n",
            "13/13 [==============================] - 0s 1ms/step - loss: 0.1362 - accuracy: 0.9499\n",
            "Epoch 77/100\n",
            "13/13 [==============================] - 0s 1ms/step - loss: 0.1353 - accuracy: 0.9524\n",
            "Epoch 78/100\n",
            "13/13 [==============================] - 0s 1ms/step - loss: 0.1344 - accuracy: 0.9499\n",
            "Epoch 79/100\n",
            "13/13 [==============================] - 0s 1ms/step - loss: 0.1329 - accuracy: 0.9499\n",
            "Epoch 80/100\n",
            "13/13 [==============================] - 0s 1ms/step - loss: 0.1322 - accuracy: 0.9524\n",
            "Epoch 81/100\n",
            "13/13 [==============================] - 0s 1ms/step - loss: 0.1310 - accuracy: 0.9549\n",
            "Epoch 82/100\n",
            "13/13 [==============================] - 0s 1ms/step - loss: 0.1302 - accuracy: 0.9549\n",
            "Epoch 83/100\n",
            "13/13 [==============================] - 0s 1ms/step - loss: 0.1293 - accuracy: 0.9599\n",
            "Epoch 84/100\n",
            "13/13 [==============================] - 0s 1ms/step - loss: 0.1283 - accuracy: 0.9499\n",
            "Epoch 85/100\n",
            "13/13 [==============================] - 0s 1ms/step - loss: 0.1273 - accuracy: 0.9499\n",
            "Epoch 86/100\n",
            "13/13 [==============================] - 0s 1ms/step - loss: 0.1262 - accuracy: 0.9599\n",
            "Epoch 87/100\n",
            "13/13 [==============================] - 0s 1ms/step - loss: 0.1253 - accuracy: 0.9524\n",
            "Epoch 88/100\n",
            "13/13 [==============================] - 0s 1ms/step - loss: 0.1251 - accuracy: 0.9624\n",
            "Epoch 89/100\n",
            "13/13 [==============================] - 0s 1ms/step - loss: 0.1239 - accuracy: 0.9524\n",
            "Epoch 90/100\n",
            "13/13 [==============================] - 0s 1ms/step - loss: 0.1230 - accuracy: 0.9549\n",
            "Epoch 91/100\n",
            "13/13 [==============================] - 0s 2ms/step - loss: 0.1218 - accuracy: 0.9624\n",
            "Epoch 92/100\n",
            "13/13 [==============================] - 0s 1ms/step - loss: 0.1211 - accuracy: 0.9649\n",
            "Epoch 93/100\n",
            "13/13 [==============================] - 0s 1ms/step - loss: 0.1203 - accuracy: 0.9649\n",
            "Epoch 94/100\n",
            "13/13 [==============================] - 0s 1ms/step - loss: 0.1194 - accuracy: 0.9649\n",
            "Epoch 95/100\n",
            "13/13 [==============================] - 0s 1ms/step - loss: 0.1188 - accuracy: 0.9649\n",
            "Epoch 96/100\n",
            "13/13 [==============================] - 0s 1ms/step - loss: 0.1178 - accuracy: 0.9649\n",
            "Epoch 97/100\n",
            "13/13 [==============================] - 0s 1ms/step - loss: 0.1171 - accuracy: 0.9624\n",
            "Epoch 98/100\n",
            "13/13 [==============================] - 0s 1ms/step - loss: 0.1163 - accuracy: 0.9649\n",
            "Epoch 99/100\n",
            "13/13 [==============================] - 0s 1ms/step - loss: 0.1156 - accuracy: 0.9649\n",
            "Epoch 100/100\n",
            "13/13 [==============================] - 0s 1ms/step - loss: 0.1149 - accuracy: 0.9649\n"
          ],
          "name": "stdout"
        },
        {
          "output_type": "execute_result",
          "data": {
            "text/plain": [
              "<tensorflow.python.keras.callbacks.History at 0x7faa7b4d5278>"
            ]
          },
          "metadata": {
            "tags": []
          },
          "execution_count": 38
        }
      ]
    },
    {
      "cell_type": "markdown",
      "metadata": {
        "id": "y8YB-rmB6U99"
      },
      "source": [
        "# **Making Predictions and Evaluating the Model**\n",
        "\n",
        "Suppose we want to see how the ANN will preform predicting a single example input. \n",
        "$f(5,5,6)= 182 \\geq  286 = v_{\\text{cutoff}} $\n",
        "$$ F(5,5,6) = \\chi_{f(5,5,6) \\geq v_{\\text{cutoff}} } =1 $$\n",
        "\n",
        "Thefore the point $(5,5,6)$ should be classified as a $1$. We will use a $0.5$ cuttoff and see that it becomes classified correctly."
      ]
    },
    {
      "cell_type": "code",
      "metadata": {
        "id": "1PZPIBnP6y_K",
        "outputId": "9f40bdd5-20e0-4f87-9b7c-431fb7a57f7d",
        "colab": {
          "base_uri": "https://localhost:8080/"
        }
      },
      "source": [
        "print(ann.predict(sc.transform([[5,5,6]])) > 0.5) #predict always expects a 2d array as input and recall we MUST apply the same scaling we used to train"
      ],
      "execution_count": 45,
      "outputs": [
        {
          "output_type": "stream",
          "text": [
            "[[ True]]\n"
          ],
          "name": "stdout"
        }
      ]
    },
    {
      "cell_type": "markdown",
      "metadata": {
        "id": "BCV54hda-QpX"
      },
      "source": [
        "Now we will generate predictions on the test data and compare it to the actual results."
      ]
    },
    {
      "cell_type": "code",
      "metadata": {
        "id": "qBiLzpyi-dxS",
        "outputId": "1dbcba24-3976-465a-e86e-bf3c5c1055e3",
        "colab": {
          "base_uri": "https://localhost:8080/"
        }
      },
      "source": [
        "y_pred = ann.predict(X_test) > 0.5;\n",
        "print(np.concatenate((y_pred.reshape(len(y_pred),1), y_test.reshape(len(y_test),1)),1) )"
      ],
      "execution_count": 46,
      "outputs": [
        {
          "output_type": "stream",
          "text": [
            "[[0 0]\n",
            " [0 0]\n",
            " [0 0]\n",
            " [0 0]\n",
            " [1 1]\n",
            " [1 1]\n",
            " [1 1]\n",
            " [0 0]\n",
            " [0 1]\n",
            " [1 1]\n",
            " [1 1]\n",
            " [1 1]\n",
            " [1 1]\n",
            " [1 1]\n",
            " [1 1]\n",
            " [1 1]\n",
            " [0 0]\n",
            " [1 1]\n",
            " [0 1]\n",
            " [1 1]\n",
            " [1 1]\n",
            " [1 1]\n",
            " [0 1]\n",
            " [0 1]\n",
            " [1 1]\n",
            " [0 1]\n",
            " [0 0]\n",
            " [1 1]\n",
            " [0 1]\n",
            " [0 1]\n",
            " [1 1]\n",
            " [0 1]\n",
            " [0 0]\n",
            " [0 0]\n",
            " [1 1]\n",
            " [0 1]\n",
            " [1 1]\n",
            " [0 0]\n",
            " [0 0]\n",
            " [0 0]\n",
            " [1 1]\n",
            " [0 0]\n",
            " [1 1]\n",
            " [0 0]\n",
            " [1 1]\n",
            " [1 1]\n",
            " [0 1]\n",
            " [0 0]\n",
            " [1 1]\n",
            " [0 0]\n",
            " [1 1]\n",
            " [1 1]\n",
            " [1 1]\n",
            " [0 0]\n",
            " [1 1]\n",
            " [1 1]\n",
            " [0 0]\n",
            " [1 1]\n",
            " [0 0]\n",
            " [1 1]\n",
            " [0 1]\n",
            " [0 1]\n",
            " [0 0]\n",
            " [1 1]\n",
            " [1 1]\n",
            " [1 1]\n",
            " [0 0]\n",
            " [0 0]\n",
            " [0 1]\n",
            " [0 0]\n",
            " [0 0]\n",
            " [0 0]\n",
            " [0 1]\n",
            " [1 1]\n",
            " [0 0]\n",
            " [0 0]\n",
            " [1 1]\n",
            " [0 0]\n",
            " [0 0]\n",
            " [1 1]\n",
            " [0 0]\n",
            " [0 0]\n",
            " [0 0]\n",
            " [1 1]\n",
            " [1 1]\n",
            " [1 1]\n",
            " [1 1]\n",
            " [1 1]\n",
            " [0 1]\n",
            " [1 1]\n",
            " [0 0]\n",
            " [0 0]\n",
            " [0 0]\n",
            " [0 0]\n",
            " [1 1]\n",
            " [1 1]\n",
            " [0 0]\n",
            " [0 1]\n",
            " [1 1]\n",
            " [0 0]]\n"
          ],
          "name": "stdout"
        }
      ]
    },
    {
      "cell_type": "markdown",
      "metadata": {
        "id": "Bd3NW-ch_QXF"
      },
      "source": [
        "Now we create the confusion matrix"
      ]
    },
    {
      "cell_type": "code",
      "metadata": {
        "id": "8rsFQn1I_S4o",
        "outputId": "95d0a278-5b94-4a94-a6a6-e98e9df09724",
        "colab": {
          "base_uri": "https://localhost:8080/"
        }
      },
      "source": [
        "from sklearn.metrics import  confusion_matrix, accuracy_score\n",
        "cm = confusion_matrix(y_test,y_pred);\n",
        "print(cm)\n",
        "accuracy_score(y_test,y_pred)"
      ],
      "execution_count": 47,
      "outputs": [
        {
          "output_type": "stream",
          "text": [
            "[[38  0]\n",
            " [16 46]]\n"
          ],
          "name": "stdout"
        },
        {
          "output_type": "execute_result",
          "data": {
            "text/plain": [
              "0.84"
            ]
          },
          "metadata": {
            "tags": []
          },
          "execution_count": 47
        }
      ]
    }
  ]
}