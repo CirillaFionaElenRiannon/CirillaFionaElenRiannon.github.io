{
  "nbformat": 4,
  "nbformat_minor": 0,
  "metadata": {
    "colab": {
      "name": "MultiArmedBandit.ipynb",
      "provenance": [],
      "authorship_tag": "ABX9TyP0cp9WKAkxcHh3YjaqHWiY",
      "include_colab_link": true
    },
    "kernelspec": {
      "name": "python3",
      "display_name": "Python 3"
    }
  },
  "cells": [
    {
      "cell_type": "markdown",
      "metadata": {
        "id": "view-in-github",
        "colab_type": "text"
      },
      "source": [
        "<a href=\"https://colab.research.google.com/github/DavidMichaelH/DavidMichaelH.github.io/blob/master/MultiArmedBandit.ipynb\" target=\"_parent\"><img src=\"https://colab.research.google.com/assets/colab-badge.svg\" alt=\"Open In Colab\"/></a>"
      ]
    },
    {
      "cell_type": "markdown",
      "metadata": {
        "id": "VjG08TwOkeS5"
      },
      "source": [
        "# **Multi-Armed Bandit (IN PROGRESS)**\r\n",
        "\r\n",
        "Multi-Armed Bandit algorithms in general are a form of online learning algorithms. Picture your self in a Cascio facing $n$ slot machines. The pay-off of each machine is an i.i.d. sequence of random variables with distinct means.\r\n",
        "\r\n",
        "Let the value of action \\(a\\) be denoted by \r\n",
        " $$ q_*(a) := \\mathbb{E} [ R_t | A_t = a ] $$\r\n",
        "\t\r\n",
        "\r\n",
        "If you knew $( q_*(a) )_{a}$ the $k$-arm bandit problem would not be much of a problem. The dilemma of $k$-arm bandits is that you don't know this information and need to learn it in real time and want to invest with highest payoff.\r\n",
        "\t\r\n",
        "Instead of $q_*(a)$ we consider its estimate at time $t$, $Q_t(a)$. \r\n",
        " \t\r\n",
        "The estimate for $Q_t(a)$ is simply,\r\n",
        " \t\r\n",
        "$$Q_t(a) := \\dfrac{\\sum_{1 \\leq i< t} R_i \\textbf{1}_{A_i= a}  }{ \\sum_{1 \\leq i< t} \\textbf{1}_{A_i= a}  }$$\r\n",
        "\r\n",
        "\t"
      ]
    },
    {
      "cell_type": "code",
      "metadata": {
        "id": "ARMSHtbgsla2"
      },
      "source": [
        "import numpy as np\r\n",
        "import math\r\n",
        "import matplotlib.pyplot as plt\r\n",
        "import random"
      ],
      "execution_count": 189,
      "outputs": []
    },
    {
      "cell_type": "markdown",
      "metadata": {
        "id": "i5FIi03kw4GO"
      },
      "source": [
        "# **$\\epsilon$-Greedy**\r\n",
        "\r\n",
        "\r\n",
        "\r\n"
      ]
    },
    {
      "cell_type": "code",
      "metadata": {
        "id": "jWZQYtGCuMzr",
        "colab": {
          "base_uri": "https://localhost:8080/",
          "height": 295
        },
        "outputId": "2c84b2cc-e192-4244-e22f-e18dc2c4126e"
      },
      "source": [
        "NumberOfActions = 5; #Number of arms\r\n",
        "ProbOfWinAction_k = [1/2,1/3,1/4,1/5,1/6];  #Must have Arms number of entries \r\n",
        "NumberOfWins = np.zeros(NumberOfActions);\r\n",
        "NumberOfTimesPlayed = np.zeros(NumberOfActions);\r\n",
        "CurrentMeanReward = np.zeros(NumberOfActions);\r\n",
        "Trials = 100; #Number of times we pull the lever \r\n",
        "epsilon = 0.5;\r\n",
        "\r\n",
        "\r\n",
        "AveragePayOff = np.zeros(Trials+1);\r\n",
        "\r\n",
        "#Play Each Arm Once\r\n",
        "for k in range(NumberOfActions):\r\n",
        "\r\n",
        "  #Play arm k\r\n",
        "  NumberOfTimesPlayed[k] = NumberOfTimesPlayed[k]+1;\r\n",
        "  if random.random() < ProbOfWinAction_k[k]:\r\n",
        "    NumberOfWins[k] = NumberOfWins[k] + 1;\r\n",
        "    \r\n",
        "\r\n",
        "\r\n",
        "  CurrentMeanReward[k] = NumberOfWins[k]/ NumberOfTimesPlayed[k];\r\n",
        "\r\n",
        "\r\n",
        "\r\n",
        "\r\n",
        "for trial in range(Trials):\r\n",
        "\r\n",
        "  #Random sample to explore \r\n",
        "  if random.random() < epsilon/(1 + math.log(math.log(2+trial))):\r\n",
        "    #Here we explore\r\n",
        "    selected_action = random.choice(range(NumberOfActions));\r\n",
        "\r\n",
        "    #Play arm selected_action\r\n",
        "    NumberOfTimesPlayed[selected_action] = NumberOfTimesPlayed[selected_action]+1;\r\n",
        "    if random.random() < ProbOfWinAction_k[selected_action]:\r\n",
        "      NumberOfWins[selected_action] = NumberOfWins[selected_action] + 1;\r\n",
        "      AveragePayOff[trial+1] = (trial*AveragePayOff[trial] +  1 )/(trial+1)\r\n",
        "    else:\r\n",
        "      AveragePayOff[trial+1] = (trial*AveragePayOff[trial] + 0 )/(trial+1)\r\n",
        "\r\n",
        "\r\n",
        "    CurrentMeanReward[selected_action] = NumberOfWins[selected_action]/NumberOfTimesPlayed[selected_action];\r\n",
        "    \r\n",
        "    \r\n",
        "\r\n",
        "  else: \r\n",
        "\r\n",
        "    #Get best action \r\n",
        "    bestKnownAction = np.argmax(CurrentMeanReward);\r\n",
        "\r\n",
        "    #Play current best selected_action\r\n",
        "    NumberOfTimesPlayed[bestKnownAction] = NumberOfTimesPlayed[bestKnownAction]+1;\r\n",
        "    if random.random() < ProbOfWinAction_k[bestKnownAction]:\r\n",
        "      NumberOfWins[bestKnownAction] = NumberOfWins[bestKnownAction] + 1;\r\n",
        "      AveragePayOff[trial+1] = (trial*AveragePayOff[trial] +  1 )/(trial+1)\r\n",
        "    else:\r\n",
        "      AveragePayOff[trial+1] = (trial*AveragePayOff[trial] + 0 )/(trial+1)\r\n",
        "      \r\n",
        "\r\n",
        "    CurrentMeanReward[bestKnownAction] = NumberOfWins[bestKnownAction]/NumberOfTimesPlayed[bestKnownAction];\r\n",
        "\r\n",
        "\r\n",
        "\r\n",
        "# plotting the points  \r\n",
        "plt.plot(range(Trials+1), AveragePayOff) \r\n",
        "  \r\n",
        "# naming the x axis \r\n",
        "plt.xlabel('t - trial') \r\n",
        "# naming the y axis \r\n",
        "plt.ylabel('a - Average Payoff') \r\n",
        "  \r\n",
        "# giving a title to my graph \r\n",
        "plt.title('Average Payoff') \r\n",
        "  \r\n",
        "# show the plot \r\n",
        "plt.show() \r\n",
        "\r\n",
        "\r\n"
      ],
      "execution_count": 208,
      "outputs": [
        {
          "output_type": "display_data",
          "data": {
            "image/png": "[encoded data removed]",
            "text/plain": [
              "<Figure size 432x288 with 1 Axes>"
            ]
          },
          "metadata": {
            "tags": [],
            "needs_background": "light"
          }
        }
      ]
    },
    {
      "cell_type": "code",
      "metadata": {
        "colab": {
          "base_uri": "https://localhost:8080/"
        },
        "id": "0Hv4v_ZrDkP3",
        "outputId": "7f473b54-72bc-4958-9943-3d82caa9cd47"
      },
      "source": [
        "CurrentMeanReward"
      ],
      "execution_count": 209,
      "outputs": [
        {
          "output_type": "execute_result",
          "data": {
            "text/plain": [
              "array([0.60240964, 0.5       , 0.42857143, 0.33333333, 0.        ])"
            ]
          },
          "metadata": {
            "tags": []
          },
          "execution_count": 209
        }
      ]
    },
    {
      "cell_type": "code",
      "metadata": {
        "colab": {
          "base_uri": "https://localhost:8080/",
          "height": 35
        },
        "id": "6bGcsoDbKSfB",
        "outputId": "170a47dd-2e61-4d51-dd3a-7689bd5edbfc"
      },
      "source": [
        "display(NumberOfTimesPlayed)"
      ],
      "execution_count": 210,
      "outputs": [
        {
          "output_type": "display_data",
          "data": {
            "text/plain": [
              "array([83.,  6.,  7.,  6.,  3.])"
            ]
          },
          "metadata": {
            "tags": []
          }
        }
      ]
    },
    {
      "cell_type": "code",
      "metadata": {
        "colab": {
          "base_uri": "https://localhost:8080/"
        },
        "id": "3XRlsJo_KgGu",
        "outputId": "f4022b18-0e21-4287-e3f3-8fd5d723d2e4"
      },
      "source": [
        "NumberOfWins"
      ],
      "execution_count": 211,
      "outputs": [
        {
          "output_type": "execute_result",
          "data": {
            "text/plain": [
              "array([50.,  3.,  3.,  2.,  0.])"
            ]
          },
          "metadata": {
            "tags": []
          },
          "execution_count": 211
        }
      ]
    }
  ]
}